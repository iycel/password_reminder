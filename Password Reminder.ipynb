{
 "cells": [
  {
   "cell_type": "code",
   "execution_count": null,
   "metadata": {},
   "outputs": [],
   "source": [
    "name = input(\"Enter your first name\").title()\r\n",
    "if name == \"Joseph\":\r\n",
    "    print(\"Hello, Joseph! The password is : W@12\")\r\n",
    "else:\r\n",
    "    print(\"Hello, Amina! See you later.\")\r\n"
   ]
  }
 ],
 "metadata": {
  "kernelspec": {
   "display_name": "Python 3.9.4 64-bit",
   "name": "python394jvsc74a57bd078a214b6e0a0f5413b50d8e6655c544a8a50d5c3e1483549f379d73b74a266ff"
  },
  "language_info": {
   "name": "python",
   "version": ""
  },
  "metadata": {
   "interpreter": {
    "hash": "78a214b6e0a0f5413b50d8e6655c544a8a50d5c3e1483549f379d73b74a266ff"
   }
  },
  "orig_nbformat": 2
 },
 "nbformat": 4,
 "nbformat_minor": 2
}